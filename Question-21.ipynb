{
 "cells": [
  {
   "cell_type": "markdown",
   "id": "f667fa4a",
   "metadata": {},
   "source": [
    "# Question-21\n"
   ]
  },
  {
   "cell_type": "code",
   "execution_count": 11,
   "id": "b1448f03",
   "metadata": {},
   "outputs": [],
   "source": [
    "class Point:\n",
    "    def __init__(self, x=0, y=0):\n",
    "        self.x = x\n",
    "        self.y = y\n",
    "\n",
    "class Segment:\n",
    "    def __init__(self, p1, p2):\n",
    "        self.p1 = p1\n",
    "        self.p2 = p2\n",
    "\n",
    "    def length(self):\n",
    "        # Calculate the length of the line segment using the distance formula\n",
    "        x1, y1 = self.p1.x, self.p1.y\n",
    "        x2, y2 = self.p2.x, self.p2.y\n",
    "        return ((x2 - x1) ** 2 + (y2 - y1) ** 2) ** 0.5\n",
    "\n",
    "    def slope(self):          # Calculate the slope of the line segment, return None if unbounded\n",
    "        \n",
    "        x1, y1 = self.p1.x, self.p1.y\n",
    "        x2, y2 = self.p2.x, self.p2.y\n",
    "\n",
    "        if x2 - x1 == 0:\n",
    "            return None\n",
    "        else:\n",
    "            return (y2 - y1) / (x2 - x1)\n",
    "\n",
    "p1 = Point(3, 4)\n",
    "p2 = Point()         \n",
    "s = Segment(p1, p2)"
   ]
  },
  {
   "cell_type": "code",
   "execution_count": 12,
   "id": "7fa6c415",
   "metadata": {},
   "outputs": [
    {
     "data": {
      "text/plain": [
       "5.0"
      ]
     },
     "execution_count": 12,
     "metadata": {},
     "output_type": "execute_result"
    }
   ],
   "source": [
    "s.length()"
   ]
  },
  {
   "cell_type": "code",
   "execution_count": 10,
   "id": "8c92e7c4",
   "metadata": {},
   "outputs": [
    {
     "data": {
      "text/plain": [
       "1.3333333333333333"
      ]
     },
     "execution_count": 10,
     "metadata": {},
     "output_type": "execute_result"
    }
   ],
   "source": [
    "s.slope()"
   ]
  }
 ],
 "metadata": {
  "kernelspec": {
   "display_name": "Python 3 (ipykernel)",
   "language": "python",
   "name": "python3"
  },
  "language_info": {
   "codemirror_mode": {
    "name": "ipython",
    "version": 3
   },
   "file_extension": ".py",
   "mimetype": "text/x-python",
   "name": "python",
   "nbconvert_exporter": "python",
   "pygments_lexer": "ipython3",
   "version": "3.11.4"
  }
 },
 "nbformat": 4,
 "nbformat_minor": 5
}
